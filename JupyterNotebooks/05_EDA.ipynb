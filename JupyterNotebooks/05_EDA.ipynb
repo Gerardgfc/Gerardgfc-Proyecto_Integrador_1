{
 "cells": [
  {
   "cell_type": "markdown",
   "metadata": {},
   "source": [
    "# EDA de los datasets limpios y elección de las variables para el modelo de recomendación"
   ]
  },
  {
   "cell_type": "code",
   "execution_count": 2,
   "metadata": {},
   "outputs": [],
   "source": [
    "import pandas as pd\n",
    "import pyarrow"
   ]
  },
  {
   "cell_type": "code",
   "execution_count": 3,
   "metadata": {},
   "outputs": [],
   "source": [
    "df_games_items = pd.read_csv('../Data/df_games_items.csv')"
   ]
  },
  {
   "cell_type": "code",
   "execution_count": 5,
   "metadata": {},
   "outputs": [
    {
     "data": {
      "text/plain": [
       "Index(['item_name', 'item_id_x', 'developer', 'Action', 'Adventure',\n",
       "       'Animation &amp; Modeling', 'Audio Production', 'Casual',\n",
       "       'Design &amp; Illustration', 'Early Access', 'Education',\n",
       "       'Free to Play', 'Indie', 'Massively Multiplayer', 'Photo Editing',\n",
       "       'RPG', 'Racing', 'Simulation', 'Software Training', 'Sports',\n",
       "       'Strategy', 'Utilities', 'Video Production', 'Web Publishing', 'year',\n",
       "       'user_id', 'item_id_y', 'playtime_forever'],\n",
       "      dtype='object')"
      ]
     },
     "execution_count": 5,
     "metadata": {},
     "output_type": "execute_result"
    }
   ],
   "source": [
    "df_games_items.columns"
   ]
  },
  {
   "cell_type": "code",
   "execution_count": 6,
   "metadata": {},
   "outputs": [],
   "source": [
    "df_games_reviews = pd.read_csv('../Data/df_games_reviews.csv')"
   ]
  },
  {
   "cell_type": "code",
   "execution_count": 7,
   "metadata": {},
   "outputs": [
    {
     "data": {
      "text/plain": [
       "Index(['item_name', 'item_id', 'developer', 'Action', 'Adventure',\n",
       "       'Animation &amp; Modeling', 'Audio Production', 'Casual',\n",
       "       'Design &amp; Illustration', 'Early Access', 'Education',\n",
       "       'Free to Play', 'Indie', 'Massively Multiplayer', 'Photo Editing',\n",
       "       'RPG', 'Racing', 'Simulation', 'Software Training', 'Sports',\n",
       "       'Strategy', 'Utilities', 'Video Production', 'Web Publishing', 'year',\n",
       "       'user_id', 'recommend', 'posted_year', 'sentiment_score'],\n",
       "      dtype='object')"
      ]
     },
     "execution_count": 7,
     "metadata": {},
     "output_type": "execute_result"
    }
   ],
   "source": [
    "df_games_reviews.columns"
   ]
  }
 ],
 "metadata": {
  "kernelspec": {
   "display_name": ".venv",
   "language": "python",
   "name": "python3"
  },
  "language_info": {
   "codemirror_mode": {
    "name": "ipython",
    "version": 3
   },
   "file_extension": ".py",
   "mimetype": "text/x-python",
   "name": "python",
   "nbconvert_exporter": "python",
   "pygments_lexer": "ipython3",
   "version": "3.12.0"
  }
 },
 "nbformat": 4,
 "nbformat_minor": 2
}
